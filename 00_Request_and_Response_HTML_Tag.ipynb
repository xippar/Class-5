{
 "cells": [
  {
   "cell_type": "code",
   "execution_count": 7,
   "metadata": {},
   "outputs": [
    {
     "name": "stdout",
     "output_type": "stream",
     "text": [
      "Requirement already satisfied: bs4 in c:\\users\\acer\\anaconda3\\lib\\site-packages (0.0.1)\n",
      "Requirement already satisfied: beautifulsoup4 in c:\\users\\acer\\anaconda3\\lib\\site-packages (from bs4) (4.9.1)\n",
      "Requirement already satisfied: soupsieve>1.2 in c:\\users\\acer\\anaconda3\\lib\\site-packages (from beautifulsoup4->bs4) (2.0.1)\n"
     ]
    }
   ],
   "source": [
    "!pip install bs4"
   ]
  },
  {
   "cell_type": "code",
   "execution_count": 8,
   "metadata": {},
   "outputs": [],
   "source": [
    "import requests\n",
    "import bs4"
   ]
  },
  {
   "cell_type": "code",
   "execution_count": 40,
   "metadata": {},
   "outputs": [
    {
     "name": "stdout",
     "output_type": "stream",
     "text": [
      "Completed page number 1\n",
      "Completed page number 2\n",
      "Completed page number 3\n",
      "Completed page number 4\n",
      "Completed page number 5\n"
     ]
    }
   ],
   "source": [
    "name_list = []\n",
    "link_list = []\n",
    "\n",
    "for page in range(1,336):\n",
    "    part_url = 'https://www.checkraka.com/house/?quicksearch_order=update%2CDESC&page='\n",
    "    url = part_url + str(page)\n",
    "    data = requests.get(url)\n",
    "    soup = bs4.BeautifulSoup(data.text)\n",
    "    residence_list = soup.find_all('div',{'class':'content c44'})\n",
    "\n",
    "    for residence in residence_list:\n",
    "        first_ul = residence.find_all('ul',recursive=False)[0]\n",
    "        second_li = first_ul.find_all('li',recursive=False)[1]\n",
    "        data = second_li.find('a')\n",
    "        link_list.append('https://www.checkraka.com' + data.get('href'))\n",
    "        name_list.append(data.text)\n",
    "    print('Completed page number',page)"
   ]
  },
  {
   "cell_type": "code",
   "execution_count": 42,
   "metadata": {},
   "outputs": [
    {
     "data": {
      "text/plain": [
       "['https://www.checkraka.com/house/sansiri/siri-place/1450457/',\n",
       " 'https://www.checkraka.com/house/sansiri/kanasiri/1449284/',\n",
       " 'https://www.checkraka.com/house/sansiri/kanasiri/1448426/',\n",
       " 'https://www.checkraka.com/house/sansiri/burasiri/1447951/',\n",
       " 'https://www.checkraka.com/house/sansiri/saransiri/1445432/',\n",
       " 'https://www.checkraka.com/house/เอชเคป-ซีรีน-บางนา-วงแหวน-H-CAPE-Serene-Bangna-Wongwaen-1445217/',\n",
       " 'https://www.checkraka.com/house/sansiri/burasiri/1444962/',\n",
       " 'https://www.checkraka.com/house/sansiri/town-avenue/1444926/',\n",
       " 'https://www.checkraka.com/house/sansiri/kanasiri/1443251/',\n",
       " 'https://www.checkraka.com/house/sansiri/habitia/1455231/',\n",
       " 'https://www.checkraka.com/house/sansiri/1455228/',\n",
       " 'https://www.checkraka.com/house/land-and-houses/villaggio/1455226/',\n",
       " 'https://www.checkraka.com/house/pruksa/1455220/',\n",
       " 'https://www.checkraka.com/house/lalin/lanceo-crib/1455219/',\n",
       " 'https://www.checkraka.com/house/pruksa/patio/1455218/',\n",
       " 'https://www.checkraka.com/house/pruksa/patio/1455217/',\n",
       " 'https://www.checkraka.com/house/supalai/supalai-pride/1455215/',\n",
       " 'https://www.checkraka.com/house/supalai/1455214/',\n",
       " 'https://www.checkraka.com/house/supalai/supalai-primo/1455213/',\n",
       " 'https://www.checkraka.com/house/supalai/supalai-royal-river/1455212/',\n",
       " 'https://www.checkraka.com/house/ncgroup/baan-fah-piyarom/1455208/',\n",
       " 'https://www.checkraka.com/house/บ้านพันนา-เอกมัย-รามอินทรา-3-Baan-Panna-Ekkamai-Ramindra-3-1455204/',\n",
       " 'https://www.checkraka.com/house/บ้านพันนา-ศรีวรา-Baanpanna-Sriwara-1455194/',\n",
       " 'https://www.checkraka.com/house/เดอะริคโค้-ทาวน์-วงแหวนฯ-ลำลูกกา-Thericco-Town-Wongwaen-Lumlukka-1455175/',\n",
       " 'https://www.checkraka.com/house/เดอะริคโค้-ทาวน์-พหลโยธิน-วัชรพล-Thericco-Town-Phahonyothin-Watcharapol-1455174/',\n",
       " 'https://www.checkraka.com/house/prinsiri/foret/1455173/',\n",
       " 'https://www.checkraka.com/house/prinsiri/citysense/1455172/',\n",
       " 'https://www.checkraka.com/house/prinsiri/citysense/1455171/',\n",
       " 'https://www.checkraka.com/house/ภัทรไพรเวท-2-เฟส-3-สามโคก-ปทุมธานี-Pattra-Private-2-Phase-3-Samkhok-Pathumthani-1455159/',\n",
       " 'https://www.checkraka.com/house/ภัทร-แกรนด์ทาวน์-สามโคก-ปทุมธานี-Pattra-Grand-Town-Samkhok-Pathum-Thani-1455158/',\n",
       " 'https://www.checkraka.com/house/ภูริ-ลำลูกกา-คลอง7-Puri-Lamlukka-Klong-7-1455156/',\n",
       " 'https://www.checkraka.com/house/ภูริ-ประตูน้ำพระอินทร์-Puri-Pratunam-Phra-In-1455155/',\n",
       " 'https://www.checkraka.com/house/ภูริ-วงแหวน-ลำลูกกา-Puri-Wongwaen-Lamlukka-1455154/',\n",
       " 'https://www.checkraka.com/house/ภูริ-วงแหวน-รังสิต-Puri-Wongwaen-Rangsit-1455153/',\n",
       " 'https://www.checkraka.com/house/ภูริ-บางน้ำเปรี้ยว-Puri-Bang-Nam-Priao-1455152/',\n",
       " 'https://www.checkraka.com/house/ภูริ-วังน้อย-Puri-Wang-Noi-1455151/',\n",
       " 'https://www.checkraka.com/house/เจ-อเวนิว-รังสิต-คลอง1-J-Avenue-Rangsit-Klong1-1455147/',\n",
       " 'https://www.checkraka.com/house/ดิ-เอท-จตุจักร-รัชดา-THE-EIGHT-Chatuchak-Ratchada-1455144/',\n",
       " 'https://www.checkraka.com/house/sc-asset/bangkok-boulevard/1455141/',\n",
       " 'https://www.checkraka.com/house/sc-asset/venue/1455137/',\n",
       " 'https://www.checkraka.com/house/เวอริทซ์-สาธุประดิษฐ์-34-Veritz-Sathupradit-34-1455135/',\n",
       " 'https://www.checkraka.com/house/ap/baanklangmuang/1455132/',\n",
       " 'https://www.checkraka.com/house/peaceandliving/1455097/',\n",
       " 'https://www.checkraka.com/house/pieamsuk/s-gate/1455096/',\n",
       " 'https://www.checkraka.com/house/prinsiri/zerene/1455089/',\n",
       " 'https://www.checkraka.com/house/pruksa/baanpruksa/1455077/',\n",
       " 'https://www.checkraka.com/house/pruksa/baanpruksa/1455076/',\n",
       " 'https://www.checkraka.com/house/supalai/supalai-garden-ville/1455075/',\n",
       " 'https://www.checkraka.com/house/fraserproperty/golden-town/1455074/',\n",
       " 'https://www.checkraka.com/house/fraserproperty/the-grand/1455073/']"
      ]
     },
     "execution_count": 42,
     "metadata": {},
     "output_type": "execute_result"
    }
   ],
   "source": [
    "link_list"
   ]
  },
  {
   "cell_type": "code",
   "execution_count": null,
   "metadata": {},
   "outputs": [],
   "source": []
  }
 ],
 "metadata": {
  "kernelspec": {
   "display_name": "Python 3",
   "language": "python",
   "name": "python3"
  },
  "language_info": {
   "codemirror_mode": {
    "name": "ipython",
    "version": 3
   },
   "file_extension": ".py",
   "mimetype": "text/x-python",
   "name": "python",
   "nbconvert_exporter": "python",
   "pygments_lexer": "ipython3",
   "version": "3.7.7"
  }
 },
 "nbformat": 4,
 "nbformat_minor": 4
}
